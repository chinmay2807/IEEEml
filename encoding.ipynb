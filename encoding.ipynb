{
 "cells": [
  {
   "cell_type": "code",
   "execution_count": 3,
   "id": "54df1627-bd09-42ae-b5de-2fca64eb8374",
   "metadata": {
    "ExecuteTime": {
     "end_time": "2024-09-19T13:11:50.280871Z",
     "start_time": "2024-09-19T13:11:50.253238Z"
    }
   },
   "outputs": [
    {
     "name": "stdout",
     "output_type": "stream",
     "text": [
      "     Make Colour  Odometer (KM)  Doors       Price  Honda  BMW  Nissan  Toyota\n",
      "0  Toyota  White         150043      4   $4,000.00      0    0       0       1\n",
      "1   Honda    Red          87899      4   $5,000.00      1    0       0       0\n",
      "2  Toyota   Blue          32549      3   $7,000.00      0    0       0       1\n",
      "3     BMW  Black          11179      5  $22,000.00      0    1       0       0\n",
      "4  Nissan  White         213095      4   $3,500.00      0    0       1       0\n",
      "5  Toyota  Green          99213      4   $4,500.00      0    0       0       1\n",
      "6   Honda   Blue          45698      4   $7,500.00      1    0       0       0\n",
      "7   Honda   Blue          54738      4   $7,000.00      1    0       0       0\n",
      "8  Toyota  White          60000      4   $6,250.00      0    0       0       1\n",
      "9  Nissan  White          31600      4   $9,700.00      0    0       1       0\n"
     ]
    }
   ],
   "source": [
    "import pandas as pd\n",
    "import numpy as np\n",
    "df=pd.read_csv(r'C:\\Users\\chinm\\Desktop\\sem_3\\ieeeMl\\car-sales.csv')\n",
    "uniqueList=list(set(df['Make']))\n",
    "for i in uniqueList:\n",
    "    df[i]=np.array(df['Make']==i,dtype=np.int8)\n",
    "print(df.head(10))\n",
    "# df=np.array([df['Make']==uniqueList,dtype=np.int8)"
   ]
  },
  {
   "cell_type": "code",
   "execution_count": null,
   "id": "c63bde3041445b51",
   "metadata": {},
   "outputs": [],
   "source": []
  },
  {
   "cell_type": "code",
   "execution_count": null,
   "id": "fb1967d4-2435-49d6-b09e-d5196de457c9",
   "metadata": {},
   "outputs": [],
   "source": []
  }
 ],
 "metadata": {
  "kernelspec": {
   "display_name": "Python 3 (ipykernel)",
   "language": "python",
   "name": "python3"
  },
  "language_info": {
   "codemirror_mode": {
    "name": "ipython",
    "version": 3
   },
   "file_extension": ".py",
   "mimetype": "text/x-python",
   "name": "python",
   "nbconvert_exporter": "python",
   "pygments_lexer": "ipython3",
   "version": "3.12.4"
  }
 },
 "nbformat": 4,
 "nbformat_minor": 5
}
