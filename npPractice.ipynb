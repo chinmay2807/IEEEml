{
 "cells": [
  {
   "cell_type": "code",
   "execution_count": 56,
   "id": "c575037e-987a-4eda-bd68-e94056dbdf08",
   "metadata": {},
   "outputs": [],
   "source": [
    "import numpy as np\n",
    "import sys"
   ]
  },
  {
   "cell_type": "code",
   "execution_count": 14,
   "id": "b4c54391-2d01-4bbc-9098-e7ea38031bed",
   "metadata": {},
   "outputs": [
    {
     "data": {
      "text/plain": [
       "array([1, 2, 3, 4])"
      ]
     },
     "execution_count": 14,
     "metadata": {},
     "output_type": "execute_result"
    }
   ],
   "source": [
    "np.array([1, 2, 3, 4])\n"
   ]
  },
  {
   "cell_type": "code",
   "execution_count": 16,
   "id": "8d7c0430-6272-48a2-8f1f-339b662bdddc",
   "metadata": {},
   "outputs": [],
   "source": [
    "a = np.array([1, 2, 3, 4])\n"
   ]
  },
  {
   "cell_type": "code",
   "execution_count": 18,
   "id": "ae0d3e61-b80c-48d6-b6fe-a1451c763622",
   "metadata": {},
   "outputs": [],
   "source": [
    "b = np.array([0, .5, 1, 1.5, 2])\n"
   ]
  },
  {
   "cell_type": "code",
   "execution_count": 20,
   "id": "02f68cb9-4ca8-4998-839b-79049e2e730e",
   "metadata": {},
   "outputs": [
    {
     "data": {
      "text/plain": [
       "(1, 2)"
      ]
     },
     "execution_count": 20,
     "metadata": {},
     "output_type": "execute_result"
    }
   ],
   "source": [
    "a[0], a[1]\n"
   ]
  },
  {
   "cell_type": "code",
   "execution_count": 22,
   "id": "dc62854a-8541-459a-86ca-664b489ec7b6",
   "metadata": {},
   "outputs": [
    {
     "data": {
      "text/plain": [
       "array([1, 2, 3, 4])"
      ]
     },
     "execution_count": 22,
     "metadata": {},
     "output_type": "execute_result"
    }
   ],
   "source": [
    "a[0:]\n"
   ]
  },
  {
   "cell_type": "code",
   "execution_count": 24,
   "id": "72aacea6-c987-4a25-90cf-68d4838c6251",
   "metadata": {},
   "outputs": [
    {
     "data": {
      "text/plain": [
       "array([2, 3])"
      ]
     },
     "execution_count": 24,
     "metadata": {},
     "output_type": "execute_result"
    }
   ],
   "source": [
    "a[1:3]\n"
   ]
  },
  {
   "cell_type": "code",
   "execution_count": 26,
   "id": "1d6f4695-9b90-4a13-b93d-69bc6aa3e596",
   "metadata": {},
   "outputs": [
    {
     "data": {
      "text/plain": [
       "array([2, 3])"
      ]
     },
     "execution_count": 26,
     "metadata": {},
     "output_type": "execute_result"
    }
   ],
   "source": [
    "a[1:-1]\n"
   ]
  },
  {
   "cell_type": "code",
   "execution_count": 28,
   "id": "cc8584bd-c3a6-4a0c-856b-f762611b9b5a",
   "metadata": {},
   "outputs": [
    {
     "data": {
      "text/plain": [
       "array([1, 3])"
      ]
     },
     "execution_count": 28,
     "metadata": {},
     "output_type": "execute_result"
    }
   ],
   "source": [
    "a[::2]\n"
   ]
  },
  {
   "cell_type": "code",
   "execution_count": 30,
   "id": "adfa31a8-c857-44c9-9d5c-9ddc7a5c9b9c",
   "metadata": {},
   "outputs": [
    {
     "data": {
      "text/plain": [
       "array([0. , 0.5, 1. , 1.5, 2. ])"
      ]
     },
     "execution_count": 30,
     "metadata": {},
     "output_type": "execute_result"
    }
   ],
   "source": [
    "b\n"
   ]
  },
  {
   "cell_type": "code",
   "execution_count": 32,
   "id": "6bdc4ea4-d39a-41df-aadd-03aad841fde5",
   "metadata": {},
   "outputs": [
    {
     "data": {
      "text/plain": [
       "(0.0, 1.0, 2.0)"
      ]
     },
     "execution_count": 32,
     "metadata": {},
     "output_type": "execute_result"
    }
   ],
   "source": [
    "b[0], b[2], b[-1]"
   ]
  },
  {
   "cell_type": "code",
   "execution_count": 34,
   "id": "45a3f91c-60d8-4076-bd7d-fdd233f6c69f",
   "metadata": {},
   "outputs": [
    {
     "data": {
      "text/plain": [
       "array([0., 1., 2.])"
      ]
     },
     "execution_count": 34,
     "metadata": {},
     "output_type": "execute_result"
    }
   ],
   "source": [
    "b[[0, 2, -1]]\n"
   ]
  },
  {
   "cell_type": "code",
   "execution_count": 36,
   "id": "753af830-a396-4047-9fa0-730a38913b3d",
   "metadata": {},
   "outputs": [
    {
     "data": {
      "text/plain": [
       "array([1, 2, 3, 4])"
      ]
     },
     "execution_count": 36,
     "metadata": {},
     "output_type": "execute_result"
    }
   ],
   "source": [
    "a\n"
   ]
  },
  {
   "cell_type": "code",
   "execution_count": 38,
   "id": "9d93ba00-8083-4a86-849d-042b244b67f8",
   "metadata": {},
   "outputs": [
    {
     "data": {
      "text/plain": [
       "dtype('int32')"
      ]
     },
     "execution_count": 38,
     "metadata": {},
     "output_type": "execute_result"
    }
   ],
   "source": [
    "a.dtype\n"
   ]
  },
  {
   "cell_type": "code",
   "execution_count": 40,
   "id": "25c5a90f-cef4-4fc9-aa24-70e95476792a",
   "metadata": {},
   "outputs": [
    {
     "data": {
      "text/plain": [
       "array([0. , 0.5, 1. , 1.5, 2. ])"
      ]
     },
     "execution_count": 40,
     "metadata": {},
     "output_type": "execute_result"
    }
   ],
   "source": [
    "b\n"
   ]
  },
  {
   "cell_type": "code",
   "execution_count": 42,
   "id": "d8ec7425-afa1-46fa-8ede-fb8bd08ef1e5",
   "metadata": {},
   "outputs": [
    {
     "data": {
      "text/plain": [
       "dtype('float64')"
      ]
     },
     "execution_count": 42,
     "metadata": {},
     "output_type": "execute_result"
    }
   ],
   "source": [
    "b.dtype\n"
   ]
  },
  {
   "cell_type": "code",
   "execution_count": 46,
   "id": "801e3d32-495b-4f26-8ca4-b2398adc81ad",
   "metadata": {},
   "outputs": [
    {
     "data": {
      "text/plain": [
       "array([1., 2., 3., 4.], dtype=float16)"
      ]
     },
     "execution_count": 46,
     "metadata": {},
     "output_type": "execute_result"
    }
   ],
   "source": [
    "np.array([1, 2, 3, 4], dtype=np.float16)\n"
   ]
  },
  {
   "cell_type": "code",
   "execution_count": 48,
   "id": "44a96b31-f7a8-40ba-a0e7-55eb8296f76e",
   "metadata": {},
   "outputs": [
    {
     "data": {
      "text/plain": [
       "array([1, 2, 3, 4], dtype=int8)"
      ]
     },
     "execution_count": 48,
     "metadata": {},
     "output_type": "execute_result"
    }
   ],
   "source": [
    "np.array([1, 2, 3, 4], dtype=np.int8)\n"
   ]
  },
  {
   "cell_type": "code",
   "execution_count": 50,
   "id": "c445ba6c-5f18-4107-a417-5c21b111181c",
   "metadata": {},
   "outputs": [],
   "source": [
    "c = np.array(['a', 'b', 'c'])\n"
   ]
  },
  {
   "cell_type": "code",
   "execution_count": 52,
   "id": "035a7be3-07a3-48f9-b29e-4c4b9417d34d",
   "metadata": {},
   "outputs": [
    {
     "data": {
      "text/plain": [
       "dtype('<U1')"
      ]
     },
     "execution_count": 52,
     "metadata": {},
     "output_type": "execute_result"
    }
   ],
   "source": [
    "c.dtype\n"
   ]
  },
  {
   "cell_type": "code",
   "execution_count": 64,
   "id": "4c820dcc-5f36-4a7d-a7f9-c9c3bc727c31",
   "metadata": {},
   "outputs": [
    {
     "data": {
      "text/plain": [
       "array([{'a': 1}, <module 'sys' (built-in)>], dtype=object)"
      ]
     },
     "execution_count": 64,
     "metadata": {},
     "output_type": "execute_result"
    }
   ],
   "source": [
    "d = np.array([{'a': 1}, sys])\n",
    "d"
   ]
  },
  {
   "cell_type": "code",
   "execution_count": 66,
   "id": "921643db-e5f6-43a6-9d27-7066ec8dd983",
   "metadata": {},
   "outputs": [
    {
     "data": {
      "text/plain": [
       "dtype('O')"
      ]
     },
     "execution_count": 66,
     "metadata": {},
     "output_type": "execute_result"
    }
   ],
   "source": [
    "d.dtype"
   ]
  },
  {
   "cell_type": "code",
   "execution_count": 68,
   "id": "222ece1f-b855-4244-9dbd-0c2778c5d693",
   "metadata": {},
   "outputs": [],
   "source": [
    "A = np.array([\n",
    "    [1, 2, 3],\n",
    "    [4, 5, 6]\n",
    "])\n"
   ]
  },
  {
   "cell_type": "code",
   "execution_count": 70,
   "id": "3d5babbd-e421-4d2d-a23d-b757ccb861d0",
   "metadata": {},
   "outputs": [
    {
     "data": {
      "text/plain": [
       "(2, 3)"
      ]
     },
     "execution_count": 70,
     "metadata": {},
     "output_type": "execute_result"
    }
   ],
   "source": [
    "A.shape\n"
   ]
  },
  {
   "cell_type": "code",
   "execution_count": 72,
   "id": "b390ce5c-c7eb-44ae-a0d8-efc16f343e21",
   "metadata": {},
   "outputs": [
    {
     "data": {
      "text/plain": [
       "2"
      ]
     },
     "execution_count": 72,
     "metadata": {},
     "output_type": "execute_result"
    }
   ],
   "source": [
    "A.ndim\n"
   ]
  },
  {
   "cell_type": "code",
   "execution_count": 74,
   "id": "24c13092-c805-4f77-934c-bddebdbcd792",
   "metadata": {},
   "outputs": [
    {
     "data": {
      "text/plain": [
       "6"
      ]
     },
     "execution_count": 74,
     "metadata": {},
     "output_type": "execute_result"
    }
   ],
   "source": [
    "A.size\n"
   ]
  },
  {
   "cell_type": "code",
   "execution_count": 80,
   "id": "97bee7ac-b0a5-4250-8654-f6ea1a606c06",
   "metadata": {},
   "outputs": [
    {
     "data": {
      "text/plain": [
       "array([[[12, 11, 10],\n",
       "        [ 9,  8,  7]],\n",
       "\n",
       "       [[ 6,  5,  4],\n",
       "        [ 3,  2,  1]]])"
      ]
     },
     "execution_count": 80,
     "metadata": {},
     "output_type": "execute_result"
    }
   ],
   "source": [
    "B = np.array([\n",
    "    [\n",
    "        [12, 11, 10],\n",
    "        [9, 8, 7],\n",
    "    ],\n",
    "    [\n",
    "        [6, 5, 4],\n",
    "        [3, 2, 1]\n",
    "    ]\n",
    "])\n",
    "B"
   ]
  },
  {
   "cell_type": "code",
   "execution_count": 82,
   "id": "4870404a-f02e-4186-8307-61ee12e2a01e",
   "metadata": {},
   "outputs": [
    {
     "data": {
      "text/plain": [
       "(2, 2, 3)"
      ]
     },
     "execution_count": 82,
     "metadata": {},
     "output_type": "execute_result"
    }
   ],
   "source": [
    "B.shape\n"
   ]
  },
  {
   "cell_type": "code",
   "execution_count": 84,
   "id": "6d7bb39c-a5d1-405e-aac2-723ad5d86490",
   "metadata": {},
   "outputs": [
    {
     "data": {
      "text/plain": [
       "3"
      ]
     },
     "execution_count": 84,
     "metadata": {},
     "output_type": "execute_result"
    }
   ],
   "source": [
    "B.ndim\n"
   ]
  },
  {
   "cell_type": "code",
   "execution_count": 86,
   "id": "7d42778e-1037-49a8-8bda-60d01373260d",
   "metadata": {},
   "outputs": [
    {
     "data": {
      "text/plain": [
       "12"
      ]
     },
     "execution_count": 86,
     "metadata": {},
     "output_type": "execute_result"
    }
   ],
   "source": [
    "B.size\n"
   ]
  },
  {
   "cell_type": "code",
   "execution_count": 96,
   "id": "660c2604-f05c-4cd6-944b-de6479f31f48",
   "metadata": {},
   "outputs": [],
   "source": [
    "A = np.array([\n",
    "#.   0. 1. 2\n",
    "    [1, 2, 3], # 0\n",
    "    [4, 5, 6], # 1\n",
    "    [7, 8, 9]  # 2\n",
    "])"
   ]
  },
  {
   "cell_type": "code",
   "execution_count": 98,
   "id": "6dc672c5-3734-4619-a171-406429d82baa",
   "metadata": {},
   "outputs": [
    {
     "data": {
      "text/plain": [
       "array([4, 5, 6])"
      ]
     },
     "execution_count": 98,
     "metadata": {},
     "output_type": "execute_result"
    }
   ],
   "source": [
    "A[1]"
   ]
  },
  {
   "cell_type": "code",
   "execution_count": 100,
   "id": "479d7b6f-1d35-4378-bdc3-e2b5c732a90b",
   "metadata": {},
   "outputs": [
    {
     "data": {
      "text/plain": [
       "4"
      ]
     },
     "execution_count": 100,
     "metadata": {},
     "output_type": "execute_result"
    }
   ],
   "source": [
    "A[1][0]\n"
   ]
  },
  {
   "cell_type": "code",
   "execution_count": 102,
   "id": "068d29e1-0a55-48c9-9894-3f81eaeff360",
   "metadata": {},
   "outputs": [
    {
     "data": {
      "text/plain": [
       "4"
      ]
     },
     "execution_count": 102,
     "metadata": {},
     "output_type": "execute_result"
    }
   ],
   "source": [
    "A[1, 0]\n"
   ]
  },
  {
   "cell_type": "code",
   "execution_count": 104,
   "id": "d5100999-7765-4520-8a93-baf43a51b09c",
   "metadata": {},
   "outputs": [
    {
     "data": {
      "text/plain": [
       "array([[1, 2, 3],\n",
       "       [4, 5, 6]])"
      ]
     },
     "execution_count": 104,
     "metadata": {},
     "output_type": "execute_result"
    }
   ],
   "source": [
    "A[0:2]\n"
   ]
  },
  {
   "cell_type": "code",
   "execution_count": 106,
   "id": "cb60fd4d-a58c-404d-baac-294d3c03f49a",
   "metadata": {},
   "outputs": [
    {
     "data": {
      "text/plain": [
       "array([[1, 2],\n",
       "       [4, 5],\n",
       "       [7, 8]])"
      ]
     },
     "execution_count": 106,
     "metadata": {},
     "output_type": "execute_result"
    }
   ],
   "source": [
    "A[:, :2]\n"
   ]
  },
  {
   "cell_type": "code",
   "execution_count": 108,
   "id": "05df052f-6bc8-4466-899f-dc398e0e2f32",
   "metadata": {},
   "outputs": [
    {
     "data": {
      "text/plain": [
       "array([[1, 2],\n",
       "       [4, 5]])"
      ]
     },
     "execution_count": 108,
     "metadata": {},
     "output_type": "execute_result"
    }
   ],
   "source": [
    "A[:2, :2]\n"
   ]
  },
  {
   "cell_type": "code",
   "execution_count": 110,
   "id": "d5d4ff06-fe7a-4fea-ab66-4e8a7123e6cf",
   "metadata": {},
   "outputs": [
    {
     "data": {
      "text/plain": [
       "array([[3],\n",
       "       [6]])"
      ]
     },
     "execution_count": 110,
     "metadata": {},
     "output_type": "execute_result"
    }
   ],
   "source": [
    "A[:2, 2:]\n"
   ]
  },
  {
   "cell_type": "code",
   "execution_count": 114,
   "id": "a8e837d2-8932-479d-9abb-5a3395790151",
   "metadata": {},
   "outputs": [
    {
     "data": {
      "text/plain": [
       "array([[ 1,  2,  3],\n",
       "       [10, 10, 10],\n",
       "       [ 7,  8,  9]])"
      ]
     },
     "execution_count": 114,
     "metadata": {},
     "output_type": "execute_result"
    }
   ],
   "source": [
    "A[1] = np.array([10, 10, 10])\n",
    "A\n"
   ]
  },
  {
   "cell_type": "code",
   "execution_count": 118,
   "id": "0ee5886a-7bbb-47e1-9619-8ee74b6a0d5b",
   "metadata": {},
   "outputs": [
    {
     "data": {
      "text/plain": [
       "array([[ 1,  2,  3],\n",
       "       [10, 10, 10],\n",
       "       [99, 99, 99]])"
      ]
     },
     "execution_count": 118,
     "metadata": {},
     "output_type": "execute_result"
    }
   ],
   "source": [
    "A[2] = 99\n",
    "A"
   ]
  },
  {
   "cell_type": "code",
   "execution_count": 120,
   "id": "a0bded26-5e5e-458c-80f5-8d13a1d8284a",
   "metadata": {},
   "outputs": [],
   "source": [
    "a = np.array([1, 2, 3, 4])\n"
   ]
  },
  {
   "cell_type": "code",
   "execution_count": 122,
   "id": "092a6371-0283-428f-8c9b-3d19891071bd",
   "metadata": {},
   "outputs": [
    {
     "data": {
      "text/plain": [
       "10"
      ]
     },
     "execution_count": 122,
     "metadata": {},
     "output_type": "execute_result"
    }
   ],
   "source": [
    "a.sum()\n"
   ]
  },
  {
   "cell_type": "code",
   "execution_count": 124,
   "id": "78d472fd-379e-4908-b904-0f68b26a204d",
   "metadata": {},
   "outputs": [
    {
     "data": {
      "text/plain": [
       "2.5"
      ]
     },
     "execution_count": 124,
     "metadata": {},
     "output_type": "execute_result"
    }
   ],
   "source": [
    "a.mean()\n"
   ]
  },
  {
   "cell_type": "code",
   "execution_count": 126,
   "id": "7b77a8a0-0357-4e17-8977-cdaf514994bf",
   "metadata": {},
   "outputs": [
    {
     "data": {
      "text/plain": [
       "1.118033988749895"
      ]
     },
     "execution_count": 126,
     "metadata": {},
     "output_type": "execute_result"
    }
   ],
   "source": [
    "a.std()\n"
   ]
  },
  {
   "cell_type": "code",
   "execution_count": 128,
   "id": "bde14eb6-d41b-49cc-925b-30253ff19328",
   "metadata": {},
   "outputs": [
    {
     "data": {
      "text/plain": [
       "1.25"
      ]
     },
     "execution_count": 128,
     "metadata": {},
     "output_type": "execute_result"
    }
   ],
   "source": [
    "a.var()\n"
   ]
  },
  {
   "cell_type": "code",
   "execution_count": 130,
   "id": "f9076561-4358-425b-bd44-ec433d7ab594",
   "metadata": {},
   "outputs": [],
   "source": [
    "A = np.array([\n",
    "    [1, 2, 3],\n",
    "    [4, 5, 6],\n",
    "    [7, 8, 9]\n",
    "])"
   ]
  },
  {
   "cell_type": "code",
   "execution_count": 132,
   "id": "f68386df-8cb8-482d-99b8-2a290abefee7",
   "metadata": {},
   "outputs": [
    {
     "data": {
      "text/plain": [
       "45"
      ]
     },
     "execution_count": 132,
     "metadata": {},
     "output_type": "execute_result"
    }
   ],
   "source": [
    "A.sum()\n"
   ]
  },
  {
   "cell_type": "code",
   "execution_count": 134,
   "id": "b0db55aa-9234-4b7d-bb6d-dfe698c65848",
   "metadata": {},
   "outputs": [
    {
     "data": {
      "text/plain": [
       "5.0"
      ]
     },
     "execution_count": 134,
     "metadata": {},
     "output_type": "execute_result"
    }
   ],
   "source": [
    "A.mean()\n"
   ]
  },
  {
   "cell_type": "code",
   "execution_count": 136,
   "id": "f27c506f-b71b-4638-8f7c-7ed8f378eb34",
   "metadata": {},
   "outputs": [
    {
     "data": {
      "text/plain": [
       "2.581988897471611"
      ]
     },
     "execution_count": 136,
     "metadata": {},
     "output_type": "execute_result"
    }
   ],
   "source": [
    "A.std()\n"
   ]
  },
  {
   "cell_type": "code",
   "execution_count": 138,
   "id": "4ded1b23-4f6c-44bb-953d-ecbe0bd0744b",
   "metadata": {},
   "outputs": [
    {
     "data": {
      "text/plain": [
       "array([12, 15, 18])"
      ]
     },
     "execution_count": 138,
     "metadata": {},
     "output_type": "execute_result"
    }
   ],
   "source": [
    "A.sum(axis=0)\n"
   ]
  },
  {
   "cell_type": "code",
   "execution_count": 140,
   "id": "3faa9653-d52c-4a25-83f5-5c07d7f1d169",
   "metadata": {},
   "outputs": [
    {
     "data": {
      "text/plain": [
       "array([ 6, 15, 24])"
      ]
     },
     "execution_count": 140,
     "metadata": {},
     "output_type": "execute_result"
    }
   ],
   "source": [
    "A.sum(axis=1)\n"
   ]
  },
  {
   "cell_type": "code",
   "execution_count": 142,
   "id": "767d5460-77b4-4f82-8976-e29b8741173c",
   "metadata": {},
   "outputs": [
    {
     "data": {
      "text/plain": [
       "array([4., 5., 6.])"
      ]
     },
     "execution_count": 142,
     "metadata": {},
     "output_type": "execute_result"
    }
   ],
   "source": [
    "A.mean(axis=0)\n"
   ]
  },
  {
   "cell_type": "code",
   "execution_count": 144,
   "id": "892e7619-8c93-4e0d-8265-6e7e2f85e6fd",
   "metadata": {},
   "outputs": [
    {
     "data": {
      "text/plain": [
       "array([2., 5., 8.])"
      ]
     },
     "execution_count": 144,
     "metadata": {},
     "output_type": "execute_result"
    }
   ],
   "source": [
    "A.mean(axis=1)\n"
   ]
  },
  {
   "cell_type": "code",
   "execution_count": 146,
   "id": "f9c27dae-cfc0-4856-a5c4-94524b173e37",
   "metadata": {},
   "outputs": [
    {
     "data": {
      "text/plain": [
       "array([2.44948974, 2.44948974, 2.44948974])"
      ]
     },
     "execution_count": 146,
     "metadata": {},
     "output_type": "execute_result"
    }
   ],
   "source": [
    "A.std(axis=0)\n"
   ]
  },
  {
   "cell_type": "code",
   "execution_count": 148,
   "id": "d3b9a661-649d-4ef7-985b-268324cb8f53",
   "metadata": {},
   "outputs": [
    {
     "data": {
      "text/plain": [
       "array([0.81649658, 0.81649658, 0.81649658])"
      ]
     },
     "execution_count": 148,
     "metadata": {},
     "output_type": "execute_result"
    }
   ],
   "source": [
    "A.std(axis=1)\n"
   ]
  },
  {
   "cell_type": "code",
   "execution_count": 164,
   "id": "969b5203-a5da-4aa8-80e5-82b30101251b",
   "metadata": {},
   "outputs": [
    {
     "data": {
      "text/plain": [
       "array([0, 1, 2, 3])"
      ]
     },
     "execution_count": 164,
     "metadata": {},
     "output_type": "execute_result"
    }
   ],
   "source": [
    "a = np.arange(4)\n",
    "a"
   ]
  },
  {
   "cell_type": "code",
   "execution_count": 166,
   "id": "01b9c657-891d-484f-a6a8-5435f53cb8ee",
   "metadata": {},
   "outputs": [
    {
     "data": {
      "text/plain": [
       "array([10, 11, 12, 13])"
      ]
     },
     "execution_count": 166,
     "metadata": {},
     "output_type": "execute_result"
    }
   ],
   "source": [
    "a + 10"
   ]
  },
  {
   "cell_type": "code",
   "execution_count": 168,
   "id": "3823d7eb-2a80-480d-bc0c-58c0f2c2b12a",
   "metadata": {},
   "outputs": [
    {
     "data": {
      "text/plain": [
       "array([ 0, 10, 20, 30])"
      ]
     },
     "execution_count": 168,
     "metadata": {},
     "output_type": "execute_result"
    }
   ],
   "source": [
    "a * 10"
   ]
  },
  {
   "cell_type": "code",
   "execution_count": 172,
   "id": "5035d68c-dfab-4ce3-b9ea-7aad2ee85e65",
   "metadata": {},
   "outputs": [
    {
     "data": {
      "text/plain": [
       "array([200, 201, 202, 203])"
      ]
     },
     "execution_count": 172,
     "metadata": {},
     "output_type": "execute_result"
    }
   ],
   "source": [
    "a+=100\n",
    "a"
   ]
  },
  {
   "cell_type": "code",
   "execution_count": 174,
   "id": "0966fa2c-0c34-4e78-bad7-33b5bae3c013",
   "metadata": {},
   "outputs": [],
   "source": [
    "l = [0, 1, 2, 3]\n"
   ]
  },
  {
   "cell_type": "code",
   "execution_count": 176,
   "id": "1aa7e4ae-d7d6-451d-8823-281337fc4607",
   "metadata": {},
   "outputs": [
    {
     "data": {
      "text/plain": [
       "[0, 10, 20, 30]"
      ]
     },
     "execution_count": 176,
     "metadata": {},
     "output_type": "execute_result"
    }
   ],
   "source": [
    "[i * 10 for i in l]\n"
   ]
  },
  {
   "cell_type": "code",
   "execution_count": 180,
   "id": "08b7e502-6a37-463a-bda3-1fa9528f68a4",
   "metadata": {},
   "outputs": [
    {
     "data": {
      "text/plain": [
       "array([0, 1, 2, 3])"
      ]
     },
     "execution_count": 180,
     "metadata": {},
     "output_type": "execute_result"
    }
   ],
   "source": [
    "a = np.arange(4)\n",
    "a"
   ]
  },
  {
   "cell_type": "code",
   "execution_count": 184,
   "id": "0e8aa57d-2b3d-4a57-bb82-d7d4480ddd31",
   "metadata": {},
   "outputs": [
    {
     "data": {
      "text/plain": [
       "array([10, 10, 10, 10])"
      ]
     },
     "execution_count": 184,
     "metadata": {},
     "output_type": "execute_result"
    }
   ],
   "source": [
    "b = np.array([10, 10, 10, 10])\n",
    "b"
   ]
  },
  {
   "cell_type": "code",
   "execution_count": 186,
   "id": "054c36cf-9ff9-4027-ad56-5877155d6a4b",
   "metadata": {},
   "outputs": [
    {
     "data": {
      "text/plain": [
       "array([10, 11, 12, 13])"
      ]
     },
     "execution_count": 186,
     "metadata": {},
     "output_type": "execute_result"
    }
   ],
   "source": [
    "a + b\n"
   ]
  },
  {
   "cell_type": "code",
   "execution_count": 188,
   "id": "34080fe9-286a-4376-be78-1f851fdac860",
   "metadata": {},
   "outputs": [
    {
     "data": {
      "text/plain": [
       "array([ 0, 10, 20, 30])"
      ]
     },
     "execution_count": 188,
     "metadata": {},
     "output_type": "execute_result"
    }
   ],
   "source": [
    "a * b\n"
   ]
  },
  {
   "cell_type": "code",
   "execution_count": 192,
   "id": "e396f926-105f-4ebf-8a7b-11af38557230",
   "metadata": {},
   "outputs": [
    {
     "data": {
      "text/plain": [
       "array([0, 1, 2, 3])"
      ]
     },
     "execution_count": 192,
     "metadata": {},
     "output_type": "execute_result"
    }
   ],
   "source": [
    "a = np.arange(4)\n",
    "a"
   ]
  },
  {
   "cell_type": "code",
   "execution_count": 194,
   "id": "9e08a5e9-d421-4a4d-865d-9f6a46857f90",
   "metadata": {},
   "outputs": [
    {
     "data": {
      "text/plain": [
       "(0, 3)"
      ]
     },
     "execution_count": 194,
     "metadata": {},
     "output_type": "execute_result"
    }
   ],
   "source": [
    "a[0], a[-1]\n"
   ]
  },
  {
   "cell_type": "code",
   "execution_count": 196,
   "id": "42330a0e-47fa-4b70-873b-ce6c4330fc1c",
   "metadata": {},
   "outputs": [
    {
     "data": {
      "text/plain": [
       "array([0, 3])"
      ]
     },
     "execution_count": 196,
     "metadata": {},
     "output_type": "execute_result"
    }
   ],
   "source": [
    "a[[0, -1]]\n"
   ]
  },
  {
   "cell_type": "code",
   "execution_count": 198,
   "id": "59c515d7-686b-4329-addf-a16d4e6e5940",
   "metadata": {},
   "outputs": [
    {
     "data": {
      "text/plain": [
       "array([0, 3])"
      ]
     },
     "execution_count": 198,
     "metadata": {},
     "output_type": "execute_result"
    }
   ],
   "source": [
    "a[[True, False, False, True]]\n"
   ]
  },
  {
   "cell_type": "code",
   "execution_count": 200,
   "id": "92d15ace-480b-4692-a59d-951703c94b27",
   "metadata": {},
   "outputs": [
    {
     "data": {
      "text/plain": [
       "array([False, False,  True,  True])"
      ]
     },
     "execution_count": 200,
     "metadata": {},
     "output_type": "execute_result"
    }
   ],
   "source": [
    "a >= 2\n"
   ]
  },
  {
   "cell_type": "code",
   "execution_count": 202,
   "id": "353cc129-c0ce-44a5-9f31-3af24590e8c5",
   "metadata": {},
   "outputs": [
    {
     "data": {
      "text/plain": [
       "array([2, 3])"
      ]
     },
     "execution_count": 202,
     "metadata": {},
     "output_type": "execute_result"
    }
   ],
   "source": [
    "a[a >= 2]\n"
   ]
  },
  {
   "cell_type": "code",
   "execution_count": 204,
   "id": "f5b4e713-f336-4829-ba0a-098ec7df8a17",
   "metadata": {},
   "outputs": [
    {
     "data": {
      "text/plain": [
       "array([2, 3])"
      ]
     },
     "execution_count": 204,
     "metadata": {},
     "output_type": "execute_result"
    }
   ],
   "source": [
    "a[a > a.mean()]\n"
   ]
  },
  {
   "cell_type": "code",
   "execution_count": 206,
   "id": "8435077d-bba3-43cc-9bd0-fb3bce07be3c",
   "metadata": {},
   "outputs": [
    {
     "data": {
      "text/plain": [
       "array([0, 1])"
      ]
     },
     "execution_count": 206,
     "metadata": {},
     "output_type": "execute_result"
    }
   ],
   "source": [
    "a[~(a > a.mean())]\n"
   ]
  },
  {
   "cell_type": "code",
   "execution_count": 208,
   "id": "8ca579ee-e65b-45b1-90fe-d06d6f08ef80",
   "metadata": {},
   "outputs": [
    {
     "data": {
      "text/plain": [
       "array([0, 1])"
      ]
     },
     "execution_count": 208,
     "metadata": {},
     "output_type": "execute_result"
    }
   ],
   "source": [
    "a[(a == 0) | (a == 1)]"
   ]
  },
  {
   "cell_type": "code",
   "execution_count": 210,
   "id": "b6b90113-793e-4339-b69a-98a61171776c",
   "metadata": {},
   "outputs": [
    {
     "data": {
      "text/plain": [
       "array([0, 2])"
      ]
     },
     "execution_count": 210,
     "metadata": {},
     "output_type": "execute_result"
    }
   ],
   "source": [
    "a[(a <= 2) & (a % 2 == 0)]\n"
   ]
  },
  {
   "cell_type": "code",
   "execution_count": 214,
   "id": "bed44302-80bd-4f6d-a11a-2b0edb73ecc8",
   "metadata": {},
   "outputs": [
    {
     "data": {
      "text/plain": [
       "array([[30, 47,  6],\n",
       "       [24,  7, 76],\n",
       "       [ 5, 30,  8]])"
      ]
     },
     "execution_count": 214,
     "metadata": {},
     "output_type": "execute_result"
    }
   ],
   "source": [
    "A = np.random.randint(100, size=(3, 3))\n",
    "A"
   ]
  },
  {
   "cell_type": "code",
   "execution_count": 216,
   "id": "72c4d0ea-3351-4e6b-90de-b52bba52ca17",
   "metadata": {},
   "outputs": [
    {
     "data": {
      "text/plain": [
       "array([[30, 47,  6],\n",
       "       [24,  7, 76],\n",
       "       [ 5, 30,  8]])"
      ]
     },
     "execution_count": 216,
     "metadata": {},
     "output_type": "execute_result"
    }
   ],
   "source": [
    "A"
   ]
  },
  {
   "cell_type": "code",
   "execution_count": 218,
   "id": "c7025312-5203-4b2b-8e0b-7cc512964d7c",
   "metadata": {},
   "outputs": [
    {
     "data": {
      "text/plain": [
       "array([30,  6,  7,  5,  8])"
      ]
     },
     "execution_count": 218,
     "metadata": {},
     "output_type": "execute_result"
    }
   ],
   "source": [
    "A[np.array([\n",
    "    [True, False, True],\n",
    "    [False, True, False],\n",
    "    [True, False, True]\n",
    "])]"
   ]
  },
  {
   "cell_type": "code",
   "execution_count": 220,
   "id": "7e772979-02db-4fea-a4ea-2deceacca546",
   "metadata": {},
   "outputs": [
    {
     "data": {
      "text/plain": [
       "array([[False,  True, False],\n",
       "       [False, False,  True],\n",
       "       [False, False, False]])"
      ]
     },
     "execution_count": 220,
     "metadata": {},
     "output_type": "execute_result"
    }
   ],
   "source": [
    "A > 30\n"
   ]
  },
  {
   "cell_type": "code",
   "execution_count": 222,
   "id": "1ef9ba32-5372-4868-af50-300bfefec385",
   "metadata": {},
   "outputs": [
    {
     "data": {
      "text/plain": [
       "array([47, 76])"
      ]
     },
     "execution_count": 222,
     "metadata": {},
     "output_type": "execute_result"
    }
   ],
   "source": [
    "A[A > 30]\n"
   ]
  },
  {
   "cell_type": "code",
   "execution_count": 224,
   "id": "27972881-d92c-4411-ace4-21ea31d84520",
   "metadata": {},
   "outputs": [],
   "source": [
    "\n",
    "A = np.array([\n",
    "    [1, 2, 3],\n",
    "    [4, 5, 6],\n",
    "    [7, 8, 9]\n",
    "])"
   ]
  },
  {
   "cell_type": "code",
   "execution_count": 226,
   "id": "6bab861f-844c-495c-ae00-8e346e124e2f",
   "metadata": {},
   "outputs": [],
   "source": [
    "B = np.array([\n",
    "    [6, 5],\n",
    "    [4, 3],\n",
    "    [2, 1]\n",
    "])"
   ]
  },
  {
   "cell_type": "code",
   "execution_count": 228,
   "id": "3ec0179e-522a-43b7-b596-b830185fbccd",
   "metadata": {},
   "outputs": [
    {
     "data": {
      "text/plain": [
       "array([[20, 14],\n",
       "       [56, 41],\n",
       "       [92, 68]])"
      ]
     },
     "execution_count": 228,
     "metadata": {},
     "output_type": "execute_result"
    }
   ],
   "source": [
    "A.dot(B)\n"
   ]
  },
  {
   "cell_type": "code",
   "execution_count": 230,
   "id": "39e8fae0-e76a-4198-b372-425167ce9e25",
   "metadata": {},
   "outputs": [
    {
     "data": {
      "text/plain": [
       "array([[6, 4, 2],\n",
       "       [5, 3, 1]])"
      ]
     },
     "execution_count": 230,
     "metadata": {},
     "output_type": "execute_result"
    }
   ],
   "source": [
    "B.T"
   ]
  },
  {
   "cell_type": "code",
   "execution_count": 234,
   "id": "5bfca91c-0d97-4fdf-8f55-6a8a5f88c289",
   "metadata": {},
   "outputs": [
    {
     "data": {
      "text/plain": [
       "28"
      ]
     },
     "execution_count": 234,
     "metadata": {},
     "output_type": "execute_result"
    }
   ],
   "source": [
    "sys.getsizeof(1)"
   ]
  },
  {
   "cell_type": "code",
   "execution_count": 236,
   "id": "62e86211-b936-46e7-8027-a6f76019d419",
   "metadata": {},
   "outputs": [
    {
     "data": {
      "text/plain": [
       "72"
      ]
     },
     "execution_count": 236,
     "metadata": {},
     "output_type": "execute_result"
    }
   ],
   "source": [
    "sys.getsizeof(10**100)\n"
   ]
  },
  {
   "cell_type": "code",
   "execution_count": 238,
   "id": "9115766e-e51c-4106-9996-7a504e3e0fed",
   "metadata": {},
   "outputs": [
    {
     "data": {
      "text/plain": [
       "4"
      ]
     },
     "execution_count": 238,
     "metadata": {},
     "output_type": "execute_result"
    }
   ],
   "source": [
    "np.dtype(int).itemsize\n"
   ]
  },
  {
   "cell_type": "code",
   "execution_count": 240,
   "id": "3dbcf8ff-3b67-4cd0-a6d6-c043f359aab3",
   "metadata": {},
   "outputs": [
    {
     "data": {
      "text/plain": [
       "1"
      ]
     },
     "execution_count": 240,
     "metadata": {},
     "output_type": "execute_result"
    }
   ],
   "source": [
    "np.dtype(np.int8).itemsize"
   ]
  },
  {
   "cell_type": "code",
   "execution_count": 242,
   "id": "76dcb427-5dad-4e2a-961f-58fba1bbe3d4",
   "metadata": {},
   "outputs": [
    {
     "data": {
      "text/plain": [
       "8"
      ]
     },
     "execution_count": 242,
     "metadata": {},
     "output_type": "execute_result"
    }
   ],
   "source": [
    "np.dtype(float).itemsize"
   ]
  },
  {
   "cell_type": "code",
   "execution_count": 244,
   "id": "f7c97216-8422-4759-b9ee-17cb828ccfc3",
   "metadata": {},
   "outputs": [
    {
     "data": {
      "text/plain": [
       "64"
      ]
     },
     "execution_count": 244,
     "metadata": {},
     "output_type": "execute_result"
    }
   ],
   "source": [
    "sys.getsizeof([1])"
   ]
  },
  {
   "cell_type": "code",
   "execution_count": 246,
   "id": "75f4e294-175e-436b-8011-da41c48b7215",
   "metadata": {},
   "outputs": [
    {
     "data": {
      "text/plain": [
       "4"
      ]
     },
     "execution_count": 246,
     "metadata": {},
     "output_type": "execute_result"
    }
   ],
   "source": [
    "np.array([1]).nbytes"
   ]
  },
  {
   "cell_type": "code",
   "execution_count": 248,
   "id": "d7482fd1-7283-4ce5-a8bc-003019da9223",
   "metadata": {},
   "outputs": [],
   "source": [
    "l = list(range(100000))"
   ]
  },
  {
   "cell_type": "code",
   "execution_count": 250,
   "id": "275211eb-fc13-4d1e-b06e-e7178b03fa65",
   "metadata": {},
   "outputs": [],
   "source": [
    "a = np.arange(100000)\n"
   ]
  },
  {
   "cell_type": "code",
   "execution_count": 252,
   "id": "471ad630-31c5-479a-a094-f110f406ef9a",
   "metadata": {},
   "outputs": [
    {
     "name": "stdout",
     "output_type": "stream",
     "text": [
      "CPU times: total: 0 ns\n",
      "Wall time: 1e+03 μs\n"
     ]
    },
    {
     "data": {
      "text/plain": [
       "216474736"
      ]
     },
     "execution_count": 252,
     "metadata": {},
     "output_type": "execute_result"
    }
   ],
   "source": [
    "%time np.sum(a ** 2)\n"
   ]
  },
  {
   "cell_type": "code",
   "execution_count": 254,
   "id": "a87cb024-58ef-4d7c-b6b4-e16561791c30",
   "metadata": {},
   "outputs": [
    {
     "name": "stdout",
     "output_type": "stream",
     "text": [
      "CPU times: total: 0 ns\n",
      "Wall time: 12 ms\n"
     ]
    },
    {
     "data": {
      "text/plain": [
       "333328333350000"
      ]
     },
     "execution_count": 254,
     "metadata": {},
     "output_type": "execute_result"
    }
   ],
   "source": [
    "%time sum([x ** 2 for x in l])\n"
   ]
  },
  {
   "cell_type": "code",
   "execution_count": 256,
   "id": "8c550095-bd69-40bf-a324-fad9304d3923",
   "metadata": {},
   "outputs": [
    {
     "data": {
      "text/plain": [
       "array([0.45114989, 0.93351476, 0.2438486 , 0.61207276])"
      ]
     },
     "execution_count": 256,
     "metadata": {},
     "output_type": "execute_result"
    }
   ],
   "source": [
    "np.random.random(4)"
   ]
  },
  {
   "cell_type": "code",
   "execution_count": 258,
   "id": "f1246f59-9828-4720-ab2d-94e15cc22570",
   "metadata": {},
   "outputs": [
    {
     "data": {
      "text/plain": [
       "array([0.57193984, 0.68260766, 0.594736  , 0.52688276])"
      ]
     },
     "execution_count": 258,
     "metadata": {},
     "output_type": "execute_result"
    }
   ],
   "source": [
    "np.random.random(size=4)"
   ]
  },
  {
   "cell_type": "code",
   "execution_count": 260,
   "id": "178b591e-e104-4c39-9bde-1864ae55eb41",
   "metadata": {},
   "outputs": [
    {
     "data": {
      "text/plain": [
       "array([[0.0826457 , 0.36039034, 0.39622425, 0.82652634],\n",
       "       [0.76788973, 0.73579134, 0.54902443, 0.76393681],\n",
       "       [0.02113793, 0.36352255, 0.96918453, 0.21464254],\n",
       "       [0.86008284, 0.3254355 , 0.18175326, 0.66944102]])"
      ]
     },
     "execution_count": 260,
     "metadata": {},
     "output_type": "execute_result"
    }
   ],
   "source": [
    "np.random.random((4,4))"
   ]
  },
  {
   "cell_type": "code",
   "execution_count": 262,
   "id": "67e202b1-adac-46cf-815e-09f60255ca81",
   "metadata": {},
   "outputs": [
    {
     "data": {
      "text/plain": [
       "array([0.15176972, 0.85745011, 0.90290115, 0.02477611])"
      ]
     },
     "execution_count": 262,
     "metadata": {},
     "output_type": "execute_result"
    }
   ],
   "source": [
    "np.random.rand(4)"
   ]
  },
  {
   "cell_type": "code",
   "execution_count": 264,
   "id": "685054d5-9c74-4bd2-a477-fdd8fd8d2f6a",
   "metadata": {},
   "outputs": [
    {
     "data": {
      "text/plain": [
       "array([[-0.08631666,  1.18407673],\n",
       "       [-1.55107666, -0.03543403],\n",
       "       [ 1.17823526, -0.61193314]])"
      ]
     },
     "execution_count": 264,
     "metadata": {},
     "output_type": "execute_result"
    }
   ],
   "source": [
    "np.random.randn(3,2)"
   ]
  },
  {
   "cell_type": "code",
   "execution_count": 266,
   "id": "90620b3c-233a-43e2-be3d-738ceb46d23b",
   "metadata": {},
   "outputs": [
    {
     "data": {
      "text/plain": [
       "array([4, 5, 6, 6, 4, 4, 4, 3])"
      ]
     },
     "execution_count": 266,
     "metadata": {},
     "output_type": "execute_result"
    }
   ],
   "source": [
    "np.random.randint(2,7,8)"
   ]
  },
  {
   "cell_type": "code",
   "execution_count": 268,
   "id": "025f6bfd-2051-4a23-909d-a68a9732f3c4",
   "metadata": {},
   "outputs": [
    {
     "data": {
      "text/plain": [
       "array([0, 1, 2, 3, 4, 5, 6, 7, 8, 9])"
      ]
     },
     "execution_count": 268,
     "metadata": {},
     "output_type": "execute_result"
    }
   ],
   "source": [
    "np.arange(10)"
   ]
  },
  {
   "cell_type": "code",
   "execution_count": 270,
   "id": "c52933ec-e009-40fe-acce-ef37d1454819",
   "metadata": {},
   "outputs": [
    {
     "data": {
      "text/plain": [
       "array([0.  , 0.05, 0.1 , 0.15, 0.2 , 0.25, 0.3 , 0.35, 0.4 , 0.45, 0.5 ,\n",
       "       0.55, 0.6 , 0.65, 0.7 , 0.75, 0.8 , 0.85, 0.9 , 0.95])"
      ]
     },
     "execution_count": 270,
     "metadata": {},
     "output_type": "execute_result"
    }
   ],
   "source": [
    "np.arange(0,1,0.05)"
   ]
  },
  {
   "cell_type": "code",
   "execution_count": 272,
   "id": "ea0ab2af-631f-4029-9183-8c4a6b773c47",
   "metadata": {},
   "outputs": [
    {
     "data": {
      "text/plain": [
       "array([0., 0., 0., 0.])"
      ]
     },
     "execution_count": 272,
     "metadata": {},
     "output_type": "execute_result"
    }
   ],
   "source": [
    "np.zeros(4)"
   ]
  },
  {
   "cell_type": "code",
   "execution_count": 274,
   "id": "8813cf7c-5ce8-4c7f-9804-613130ffcd9d",
   "metadata": {},
   "outputs": [
    {
     "data": {
      "text/plain": [
       "array([[[0., 0., 0., 0.],\n",
       "        [0., 0., 0., 0.]],\n",
       "\n",
       "       [[0., 0., 0., 0.],\n",
       "        [0., 0., 0., 0.]]])"
      ]
     },
     "execution_count": 274,
     "metadata": {},
     "output_type": "execute_result"
    }
   ],
   "source": [
    "np.zeros((2,2,4))"
   ]
  },
  {
   "cell_type": "code",
   "execution_count": 278,
   "id": "a3a79de2-6bab-44f8-a765-89153b6a9342",
   "metadata": {},
   "outputs": [
    {
     "data": {
      "text/plain": [
       "array([[[1., 1., 1., 1.]]])"
      ]
     },
     "execution_count": 278,
     "metadata": {},
     "output_type": "execute_result"
    }
   ],
   "source": [
    "np.ones((1,1,4))"
   ]
  },
  {
   "cell_type": "code",
   "execution_count": 280,
   "id": "b9be7084-1254-4d64-9687-6a4b15c01679",
   "metadata": {},
   "outputs": [
    {
     "data": {
      "text/plain": [
       "array([[[0.08631666, 1.18407673, 1.55107666],\n",
       "        [0.03543403, 1.17823526, 0.61193314]]])"
      ]
     },
     "execution_count": 280,
     "metadata": {},
     "output_type": "execute_result"
    }
   ],
   "source": [
    "np.empty((1,2,3))"
   ]
  },
  {
   "cell_type": "code",
   "execution_count": 282,
   "id": "36eb0dab-1acd-4e37-b721-656b2d746994",
   "metadata": {},
   "outputs": [
    {
     "data": {
      "text/plain": [
       "array([[1., 0., 0., 0.],\n",
       "       [0., 1., 0., 0.],\n",
       "       [0., 0., 1., 0.],\n",
       "       [0., 0., 0., 1.]])"
      ]
     },
     "execution_count": 282,
     "metadata": {},
     "output_type": "execute_result"
    }
   ],
   "source": [
    "np.eye(4)"
   ]
  },
  {
   "cell_type": "code",
   "execution_count": 284,
   "id": "1aabacc1-0f83-4873-9dda-ee8c94f469d8",
   "metadata": {},
   "outputs": [
    {
     "data": {
      "text/plain": [
       "array([[1., 0., 0., 0., 0.],\n",
       "       [0., 1., 0., 0., 0.],\n",
       "       [0., 0., 1., 0., 0.]])"
      ]
     },
     "execution_count": 284,
     "metadata": {},
     "output_type": "execute_result"
    }
   ],
   "source": [
    "np.eye(3,5)"
   ]
  },
  {
   "cell_type": "code",
   "execution_count": 286,
   "id": "902f6ab5-596d-476d-b23b-cda328221bf7",
   "metadata": {},
   "outputs": [
    {
     "data": {
      "text/plain": [
       "array([[0., 1., 0., 0.],\n",
       "       [0., 0., 1., 0.],\n",
       "       [0., 0., 0., 1.],\n",
       "       [0., 0., 0., 0.],\n",
       "       [0., 0., 0., 0.],\n",
       "       [0., 0., 0., 0.],\n",
       "       [0., 0., 0., 0.],\n",
       "       [0., 0., 0., 0.]])"
      ]
     },
     "execution_count": 286,
     "metadata": {},
     "output_type": "execute_result"
    }
   ],
   "source": [
    "np.eye(8, 4, k=1)\n"
   ]
  },
  {
   "cell_type": "code",
   "execution_count": 288,
   "id": "a377c64a-7989-4fe9-af8c-9b20ac3ed695",
   "metadata": {},
   "outputs": [
    {
     "data": {
      "text/plain": [
       "array([0.        , 0.05263158, 0.10526316, 0.15789474, 0.21052632,\n",
       "       0.26315789, 0.31578947, 0.36842105, 0.42105263, 0.47368421,\n",
       "       0.52631579, 0.57894737, 0.63157895, 0.68421053, 0.73684211,\n",
       "       0.78947368, 0.84210526, 0.89473684, 0.94736842, 1.        ])"
      ]
     },
     "execution_count": 288,
     "metadata": {},
     "output_type": "execute_result"
    }
   ],
   "source": [
    "np.linspace(0, 1, 20)\n"
   ]
  },
  {
   "cell_type": "code",
   "execution_count": 290,
   "id": "3141eb04-81dd-4363-aef9-4900fed54b74",
   "metadata": {},
   "outputs": [
    {
     "data": {
      "text/plain": [
       "array([[1., 0., 0.],\n",
       "       [0., 1., 0.],\n",
       "       [0., 0., 1.]])"
      ]
     },
     "execution_count": 290,
     "metadata": {},
     "output_type": "execute_result"
    }
   ],
   "source": [
    "np.identity(3)\n"
   ]
  },
  {
   "cell_type": "code",
   "execution_count": 292,
   "id": "ff6d9fe2-9884-44f1-a347-6b8f2fa93ce4",
   "metadata": {},
   "outputs": [
    {
     "data": {
      "text/plain": [
       "array([[1.39067116e-309, 8.28904606e-317],\n",
       "       [0.00000000e+000, 0.00000000e+000]])"
      ]
     },
     "execution_count": 292,
     "metadata": {},
     "output_type": "execute_result"
    }
   ],
   "source": [
    "np.empty((2, 2))\n"
   ]
  },
  {
   "cell_type": "code",
   "execution_count": 294,
   "id": "9a53a18f-a952-4f01-b910-9631ab1fd8b6",
   "metadata": {},
   "outputs": [
    {
     "data": {
      "text/plain": [
       "array([[0, 1],\n",
       "       [2, 3],\n",
       "       [4, 5],\n",
       "       [6, 7],\n",
       "       [8, 9]])"
      ]
     },
     "execution_count": 294,
     "metadata": {},
     "output_type": "execute_result"
    }
   ],
   "source": [
    "np.arange(10).reshape(5, 2)"
   ]
  },
  {
   "cell_type": "code",
   "execution_count": 296,
   "id": "ae77f68f-c497-42d6-a386-1c08f5286094",
   "metadata": {},
   "outputs": [
    {
     "data": {
      "text/plain": [
       "array([[1, 1],\n",
       "       [1, 1]], dtype=int8)"
      ]
     },
     "execution_count": 296,
     "metadata": {},
     "output_type": "execute_result"
    }
   ],
   "source": [
    "np.ones([2,2], dtype=np.int8)\n"
   ]
  },
  {
   "cell_type": "code",
   "execution_count": 298,
   "id": "448c89e4-605e-47b5-9c67-d2395cdb0289",
   "metadata": {},
   "outputs": [
    {
     "data": {
      "text/plain": [
       "array([[1., 1.],\n",
       "       [1., 1.],\n",
       "       [1., 1.]])"
      ]
     },
     "execution_count": 298,
     "metadata": {},
     "output_type": "execute_result"
    }
   ],
   "source": [
    "np.ones([3,2], dtype=np.float64)\n"
   ]
  },
  {
   "cell_type": "code",
   "execution_count": 302,
   "id": "9bc79822-ece8-4160-94af-a1e1a8b2c9d0",
   "metadata": {},
   "outputs": [
    {
     "data": {
      "text/plain": [
       "array([0, 1, 2, 3], dtype=int8)"
      ]
     },
     "execution_count": 302,
     "metadata": {},
     "output_type": "execute_result"
    }
   ],
   "source": [
    "X = np.arange(4, dtype=np.int8)\n",
    "X"
   ]
  },
  {
   "cell_type": "code",
   "execution_count": 304,
   "id": "ec8c09b4-797a-4615-a850-5f7a2b52eafb",
   "metadata": {},
   "outputs": [
    {
     "data": {
      "text/plain": [
       "array([1, 1, 1, 1], dtype=int8)"
      ]
     },
     "execution_count": 304,
     "metadata": {},
     "output_type": "execute_result"
    }
   ],
   "source": [
    "np.ones_like(X)\n"
   ]
  },
  {
   "cell_type": "code",
   "execution_count": 308,
   "id": "4840e6f9-13dd-495d-9eb0-363af0494f0a",
   "metadata": {},
   "outputs": [
    {
     "data": {
      "text/plain": [
       "array([[5, 5, 5, 5],\n",
       "       [5, 5, 5, 5],\n",
       "       [5, 5, 5, 5],\n",
       "       [5, 5, 5, 5]], dtype=int16)"
      ]
     },
     "execution_count": 308,
     "metadata": {},
     "output_type": "execute_result"
    }
   ],
   "source": [
    "np.ones([4,4], dtype=np.int16) * 5"
   ]
  },
  {
   "cell_type": "code",
   "execution_count": 310,
   "id": "0d095ad2-cf65-429a-8aa8-8692492b05e4",
   "metadata": {},
   "outputs": [
    {
     "data": {
      "text/plain": [
       "array([[1., 0., 0.],\n",
       "       [0., 1., 0.],\n",
       "       [0., 0., 1.]])"
      ]
     },
     "execution_count": 310,
     "metadata": {},
     "output_type": "execute_result"
    }
   ],
   "source": [
    "np.identity(3)\n"
   ]
  },
  {
   "cell_type": "code",
   "execution_count": 328,
   "id": "97310b43-6cdd-4631-8121-16fc836ee1c3",
   "metadata": {},
   "outputs": [
    {
     "data": {
      "text/plain": [
       "array([7, 7, 9])"
      ]
     },
     "execution_count": 328,
     "metadata": {},
     "output_type": "execute_result"
    }
   ],
   "source": [
    "np.random.randint(10, size=3)"
   ]
  },
  {
   "cell_type": "code",
   "execution_count": 340,
   "id": "ad487964-0893-4854-860d-1001956bb85b",
   "metadata": {},
   "outputs": [
    {
     "data": {
      "text/plain": [
       "array([[[0.21391071, 0.29181602, 0.52702402],\n",
       "        [0.46635613, 0.62866495, 0.27939471],\n",
       "        [0.62928745, 0.37116267, 0.58973548]],\n",
       "\n",
       "       [[0.61064163, 0.55110121, 0.92508748],\n",
       "        [0.42618859, 0.53727003, 0.24122851],\n",
       "        [0.35758632, 0.73826319, 0.00878169]],\n",
       "\n",
       "       [[0.53120601, 0.24090731, 0.72640163],\n",
       "        [0.2200498 , 0.91406961, 0.70111076],\n",
       "        [0.20013016, 0.79241228, 0.57353471]]])"
      ]
     },
     "execution_count": 340,
     "metadata": {},
     "output_type": "execute_result"
    }
   ],
   "source": [
    "np.random.random((3,3,3)) \n",
    "# np.random.randn(3,3,3)"
   ]
  },
  {
   "cell_type": "code",
   "execution_count": 342,
   "id": "d595ce00-9a5b-43b0-ab7c-cceb79d86f19",
   "metadata": {},
   "outputs": [
    {
     "data": {
      "text/plain": [
       "array([[[ 6.85408570e-01, -2.02357234e-01, -2.21445014e-01],\n",
       "        [ 3.24464018e-01, -1.46193110e+00,  7.03776162e-01],\n",
       "        [-1.44964935e+00, -4.43518384e-01,  3.83801787e-01]],\n",
       "\n",
       "       [[-2.05492346e+00, -7.87008332e-01,  4.88397017e-01],\n",
       "        [ 2.34144805e-02, -6.01648078e-01, -1.00873865e-01],\n",
       "        [ 2.40728230e-02,  1.35624266e+00, -2.61626563e-03]],\n",
       "\n",
       "       [[-3.27028503e+00, -6.33775984e-01,  3.96225765e-01],\n",
       "        [-2.41805136e-01, -3.53708108e-01, -4.43210470e-01],\n",
       "        [ 1.04647949e-01, -3.55304415e-01,  2.80490464e-01]]])"
      ]
     },
     "execution_count": 342,
     "metadata": {},
     "output_type": "execute_result"
    }
   ],
   "source": [
    "#np.random.random((3,3,3)) \n",
    "np.random.randn(3,3,3)"
   ]
  },
  {
   "cell_type": "code",
   "execution_count": 346,
   "id": "234fb397-495d-44ca-a513-83e665def5a2",
   "metadata": {},
   "outputs": [
    {
     "name": "stdout",
     "output_type": "stream",
     "text": [
      "[5 2 3] 2898842956496\n",
      "[5 2 3] 2898842956976\n"
     ]
    }
   ],
   "source": [
    "X = np.array([5,2,3], dtype=np.int8)\n",
    "print(X, id(X))\n",
    "\n",
    "Y = np.copy(X)\n",
    "print(Y, id(Y))"
   ]
  },
  {
   "cell_type": "code",
   "execution_count": 348,
   "id": "3f07bcdd-32d0-4c7a-925f-7217a44679b6",
   "metadata": {},
   "outputs": [
    {
     "data": {
      "text/plain": [
       "array([[1, 2],\n",
       "       [5, 6]])"
      ]
     },
     "execution_count": 348,
     "metadata": {},
     "output_type": "execute_result"
    }
   ],
   "source": [
    "\n",
    "X = np.array([\n",
    "    [1,   2,  3,  4],\n",
    "    [5,   6,  7,  8],\n",
    "    [9,  10, 11, 12],\n",
    "    [13, 14, 15, 16]\n",
    "])\n",
    "\n",
    "#X[:2][:2] wrong!\n",
    "#X[0:2, 0:2]\n",
    "X[:2, :2]"
   ]
  },
  {
   "cell_type": "code",
   "execution_count": 350,
   "id": "1161ea9d-a92f-46f7-a0a2-dc8e405ba004",
   "metadata": {},
   "outputs": [
    {
     "data": {
      "text/plain": [
       "[-5, -3, 0, 10, 40]"
      ]
     },
     "execution_count": 350,
     "metadata": {},
     "output_type": "execute_result"
    }
   ],
   "source": [
    "X = [0, 10, -5, 40, -3]\n",
    "\n",
    "X.sort()\n",
    "X"
   ]
  },
  {
   "cell_type": "code",
   "execution_count": null,
   "id": "12137d44-4c49-46b3-a963-9ab1b042784d",
   "metadata": {},
   "outputs": [],
   "source": []
  }
 ],
 "metadata": {
  "kernelspec": {
   "display_name": "Python 3 (ipykernel)",
   "language": "python",
   "name": "python3"
  },
  "language_info": {
   "codemirror_mode": {
    "name": "ipython",
    "version": 3
   },
   "file_extension": ".py",
   "mimetype": "text/x-python",
   "name": "python",
   "nbconvert_exporter": "python",
   "pygments_lexer": "ipython3",
   "version": "3.12.4"
  }
 },
 "nbformat": 4,
 "nbformat_minor": 5
}
